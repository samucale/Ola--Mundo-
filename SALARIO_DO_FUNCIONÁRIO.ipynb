{
  "nbformat": 4,
  "nbformat_minor": 0,
  "metadata": {
    "colab": {
      "name": "SALARIO DO FUNCIONÁRIO",
      "provenance": [],
      "authorship_tag": "ABX9TyMdVzAVD45im/6OXHn7ePtZ",
      "include_colab_link": true
    },
    "kernelspec": {
      "name": "python3",
      "display_name": "Python 3"
    }
  },
  "cells": [
    {
      "cell_type": "markdown",
      "metadata": {
        "id": "view-in-github",
        "colab_type": "text"
      },
      "source": [
        "<a href=\"https://colab.research.google.com/github/samucale/Ola--Mundo-/blob/main/SALARIO_DO_FUNCION%C3%81RIO.ipynb\" target=\"_parent\"><img src=\"https://colab.research.google.com/assets/colab-badge.svg\" alt=\"Open In Colab\"/></a>"
      ]
    },
    {
      "cell_type": "markdown",
      "metadata": {
        "id": "baE6ktHnpqfE"
      },
      "source": [
        "**SALARIO DO FUNCIONÁRIO**"
      ]
    },
    {
      "cell_type": "code",
      "metadata": {
        "colab": {
          "base_uri": "https://localhost:8080/"
        },
        "id": "8wCL84s4pzB2",
        "outputId": "935ed523-ee1c-4b07-f831-4d1903508328"
      },
      "source": [
        "nome = input('Digite o nome do funcionário : ')\r\n",
        "salario= float(input('Digite o salario do funcionário   R$ :'))\r\n",
        "novo = salario + (salario * 15/100)\r\n",
        "print ('O novo salario do funcionário {} era de R$ {},com o aumento de 15% ele passara receber R$ {}'.format(nome,salario,novo))"
      ],
      "execution_count": null,
      "outputs": [
        {
          "output_type": "stream",
          "text": [
            "Digite o nome do funcionário : S\n",
            "Digite o salario do funcionário   R$ :1500.00\n",
            "O novo salario do funcionário S era de R$ 1500.0,com o aumento de 15% ele passara receber R$ 1725.0\n"
          ],
          "name": "stdout"
        }
      ]
    },
    {
      "cell_type": "markdown",
      "metadata": {
        "id": "l9EH3qrREHOh"
      },
      "source": [
        "# **TREINANDO**"
      ]
    },
    {
      "cell_type": "code",
      "metadata": {
        "colab": {
          "base_uri": "https://localhost:8080/"
        },
        "id": "wF6-9-KrEWpo",
        "outputId": "fb464324-77a9-4eba-8168-fcfd45bc080a"
      },
      "source": [
        "nome = input('Digite o nome do funcionário : ')\r\n",
        "sal =  float(input('Digite o salario do funcionario R$ :'))\r\n",
        "novo = sal + (sal * 15/100)\r\n",
        "print ('o novo salario do funcionário {} era de R$ {} ,com o aumento de 15% ele passara a receber R$ {}'.format (nome,sal,novo))"
      ],
      "execution_count": null,
      "outputs": [
        {
          "output_type": "stream",
          "text": [
            "Digite o nome do funcionário : Samuel\n",
            "Digite o salario do funcionario R$ :1500.00\n",
            "o novo salario do funcionário Samuel era de R$ 1500.0 ,com o aumento de 15% ele passara a receber R$ 1725.0\n"
          ],
          "name": "stdout"
        }
      ]
    },
    {
      "cell_type": "code",
      "metadata": {
        "colab": {
          "base_uri": "https://localhost:8080/"
        },
        "id": "XSHtgPXKGzPp",
        "outputId": "2220faf6-5b9f-4f1d-f706-7fcbe60b1dca"
      },
      "source": [
        "nome = input ('Digite o nome do funcionário : ')\r\n",
        "sal = float(input('digite o salario do funcionário : R$ '))\r\n",
        "novo = sal + (sal * 15/100)\r\n",
        "print ('O funcionario {} ganahava R$ {} ,com o aumento de 15% ele passará receber R$ {}'.format (nome,sal,novo))\r\n"
      ],
      "execution_count": null,
      "outputs": [
        {
          "output_type": "stream",
          "text": [
            "Digite o nome do funcionário : sAMUEL \n",
            "digite o salario do funcionário : R$4850.00\n",
            "O funcionario sAMUEL  ganahava R$ 4850.0 ,com o aumento de 15% ele passará receber R$ 5577.5\n"
          ],
          "name": "stdout"
        }
      ]
    },
    {
      "cell_type": "code",
      "metadata": {
        "colab": {
          "base_uri": "https://localhost:8080/"
        },
        "id": "Lh2kEqa8I-dx",
        "outputId": "82c45ef6-096d-4585-99b4-367d0005f467"
      },
      "source": [
        "nome = input ('digite o nome do funcionário :')\r\n",
        "salario = float(input('digite o salario do funcionário : R$ '))\r\n",
        "novo = salario + (salario * 15/100)\r\n",
        "print ('O funcionario {} ganhava R$ {} com o aumento de 15 % ele passara a receber R$ {}'.format(nome,salario,novo))"
      ],
      "execution_count": null,
      "outputs": [
        {
          "output_type": "stream",
          "text": [
            "digite o nome do funcionário :Samuel \n",
            "digite o salario do funcionário : R$ 1500.00\n",
            "O funcionario Samuel  ganhava R$ 1500.0 com o aumento de 15 % ele passara a receber R$ 1725.0\n"
          ],
          "name": "stdout"
        }
      ]
    },
    {
      "cell_type": "code",
      "metadata": {
        "id": "qsJtN89yV3yy"
      },
      "source": [
        ""
      ],
      "execution_count": null,
      "outputs": []
    },
    {
      "cell_type": "code",
      "metadata": {
        "colab": {
          "base_uri": "https://localhost:8080/"
        },
        "id": "cN4rKv9lJtoj",
        "outputId": "530f8eef-ccb9-4076-b47b-88e5da145dec"
      },
      "source": [
        "nome = input ('Digite o nome do funcionário :' )\r\n",
        "if nome == 'Bianca':\r\n",
        "  print ('{} é hora de dormir você ainda não ganhou seu primeiro Salario !!'.format (nome))  \r\n",
        "else :\r\n",
        "  anonasc = int (input('Digite o ano de nascimento : ' )) \r\n",
        "  ano = int(input('Digite o ano atual : '))\r\n",
        "  atual = ano - anonasc\r\n",
        "  salario=float (input('digite o salario do funcionario : R$ '))\r\n",
        "  novo = salario + (salario * 15/100)\r\n",
        "  print ('ola , {} estamos no ano de  {} vc nasceu em  {} sua idade é  {} anos seu salario atual é de R$ {} e com aumento vc passara ganhar R$ {}'.format(nome,ano,anonasc,atual,salario,novo))\r\n",
        "\r\n",
        "\r\n",
        "\r\n",
        "\r\n"
      ],
      "execution_count": null,
      "outputs": [
        {
          "output_type": "stream",
          "text": [
            "Digite o nome do funcionário :Bianca costa\n",
            "Digite o ano de nascimento : 2005\n",
            "Digite o ano atual : 2021\n",
            "digite o salario do funcionario : R$ 2.000\n",
            "ola , Bianca costa estamos no ano de  2021 vc nasceu em  2005 sua idade é  16 anos seu salario atual é de R$ 2.0 e com aumento vc passara ganhar R$ 2.3\n"
          ],
          "name": "stdout"
        }
      ]
    },
    {
      "cell_type": "code",
      "metadata": {
        "id": "4miESfOYNCvm"
      },
      "source": [
        ""
      ],
      "execution_count": null,
      "outputs": []
    }
  ]
}