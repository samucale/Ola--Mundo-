{
  "nbformat": 4,
  "nbformat_minor": 0,
  "metadata": {
    "colab": {
      "name": "IF E ELSE",
      "provenance": [],
      "collapsed_sections": [],
      "authorship_tag": "ABX9TyOFeCVeSEqpftsxesLpqxYr",
      "include_colab_link": true
    },
    "kernelspec": {
      "name": "python3",
      "display_name": "Python 3"
    }
  },
  "cells": [
    {
      "cell_type": "markdown",
      "metadata": {
        "id": "view-in-github",
        "colab_type": "text"
      },
      "source": [
        "<a href=\"https://colab.research.google.com/github/samucale/Ola--Mundo-/blob/main/IF_E_ELSE.ipynb\" target=\"_parent\"><img src=\"https://colab.research.google.com/assets/colab-badge.svg\" alt=\"Open In Colab\"/></a>"
      ]
    },
    {
      "cell_type": "markdown",
      "metadata": {
        "id": "BtBazFg1rIkX"
      },
      "source": [
        "**IF E ELSE**"
      ]
    },
    {
      "cell_type": "code",
      "metadata": {
        "colab": {
          "base_uri": "https://localhost:8080/"
        },
        "id": "cUBtYTHwqQ2h",
        "outputId": "27cf4d87-0bfd-4e74-8d8e-0c54b93e6442"
      },
      "source": [
        "tempo=int(input('quanto anos tem o seu carro?'))\r\n",
        "if tempo <=3:\r\n",
        "  print ('carro novo')\r\n",
        "else : \r\n",
        "  print ('seu carro é velho ')\r\n",
        "print ('--fim--')    "
      ],
      "execution_count": null,
      "outputs": [
        {
          "output_type": "stream",
          "text": [
            "quanto anos tem o seu carro?1982\n",
            "seu carro é velho \n",
            "--fim--\n"
          ],
          "name": "stdout"
        }
      ]
    },
    {
      "cell_type": "markdown",
      "metadata": {
        "id": "1aYtsYe7rVIB"
      },
      "source": [
        "**IF ELSE SIMPLIFICADO**"
      ]
    },
    {
      "cell_type": "code",
      "metadata": {
        "colab": {
          "base_uri": "https://localhost:8080/"
        },
        "id": "NjqkW1fkraE2",
        "outputId": "a3a0433f-9b8e-472d-d3d7-5730c2c4faa5"
      },
      "source": [
        "tempo=int(input('Quantos anos tem seu carro ? :'))\r\n",
        "print('carro novo'if tempo<=3 else'carro velho')\r\n",
        "print ('--fim--')"
      ],
      "execution_count": null,
      "outputs": [
        {
          "output_type": "stream",
          "text": [
            "Quantos anos tem seu carro ? :1\n",
            "carro novo\n",
            "--fim--\n"
          ],
          "name": "stdout"
        }
      ]
    },
    {
      "cell_type": "markdown",
      "metadata": {
        "id": "mlnvr_iRtczq"
      },
      "source": [
        ""
      ]
    },
    {
      "cell_type": "code",
      "metadata": {
        "colab": {
          "base_uri": "https://localhost:8080/"
        },
        "id": "SJbH1eCHtfPC",
        "outputId": "f4332cde-72fb-4028-94e4-bbbb8f289828"
      },
      "source": [
        "nome = str(input('Digite seu nome :'))\r\n",
        "sobr = str(input('digite seu sobrenome :'))\r\n",
        "print ('ola {} esse sobrenome {} é originario de qual pais ?:'.format (nome,sobr))\r\n",
        "pais = str(input('pais de origem: '))\r\n",
        "print ('Você ja viajou para {} para conhecer suas origens {} ?'.format(pais,nome))\r\n",
        "cond = str(input('sim ou não : '))\r\n",
        "if cond == 'sim':\r\n",
        "  print ('Que bacana {}, acredito que aproveitou bastante'.format(nome))\r\n",
        "else :\r\n",
        "  print ('Que pena {} mas tenho certeza que uma hora você vai '.format(nome))  \r\n",
        "\r\n",
        "\r\n",
        "\r\n",
        "\r\n",
        "\r\n"
      ],
      "execution_count": null,
      "outputs": [
        {
          "output_type": "stream",
          "text": [
            "Digite seu nome :Samuel \n",
            "digite seu sobrenome :Silva \n",
            "ola Samuel  esse sobrenome Silva  é originario de qual pais ?:\n",
            "pais de origem: Brasil\n",
            "Você ja viajou para Brasil para conhecer suas origens Samuel  ?\n",
            " sim ou não : sim\n",
            "Que bacana Samuel , acredito que aproveitou bastante\n"
          ],
          "name": "stdout"
        }
      ]
    },
    {
      "cell_type": "code",
      "metadata": {
        "id": "CPPo_lbexL4J"
      },
      "source": [
        ""
      ],
      "execution_count": null,
      "outputs": []
    }
  ]
}